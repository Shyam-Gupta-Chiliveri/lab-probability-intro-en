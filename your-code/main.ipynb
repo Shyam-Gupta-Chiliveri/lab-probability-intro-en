{
 "cells": [
  {
   "cell_type": "markdown",
   "metadata": {},
   "source": [
    "# Probability"
   ]
  },
  {
   "cell_type": "markdown",
   "metadata": {},
   "source": [
    "## Challenge 1\n",
    "There is a box with 10 white balls, 12 red balls and 8 black balls. Calculate the probability of:\n",
    "* Taking a white ball out.\n",
    "* Taking a white ball on first extraction and a black ball out on second extraction without replacing the first one.\n",
    "* Taking a white ball on first extraction and a black ball out on second extraction replacing the first one.\n",
    "* Taking 3 balls and them being all different colours."
   ]
  },
  {
   "cell_type": "code",
   "execution_count": 6,
   "metadata": {},
   "outputs": [
    {
     "name": "stdout",
     "output_type": "stream",
     "text": [
      "Total number of balls: 30\n",
      "Probability of taking out a white ball: 0.3333333333333333\n",
      "Probability of taking out a white ball first and a black ball second without replacement: 0.09195402298850575\n",
      "Probability of taking out a white ball first and a black ball second with replacement: 0.08888888888888888\n",
      "Probability of taking out 3 balls all of different colors without replacement: 0.23645320197044334\n"
     ]
    }
   ],
   "source": [
    "#Given \n",
    "White = 10 \n",
    "red = 12\n",
    "black = 8\n",
    "total = White + red + black\n",
    "print(\"Total number of balls:\", total)\n",
    "\n",
    "#Taking white ball out\n",
    "prob_white = White / total\n",
    "print(\"Probability of taking out a white ball:\", prob_white)\n",
    "\n",
    "#Taking a white ball on first extraction and a black ball out on second extraction without replacing the first one\n",
    "prob_white_black = (White / total) * (black / (total - 1))\n",
    "print(\"Probability of taking out a white ball first and a black ball second without replacement:\", prob_white_black)\n",
    "\n",
    "#Taking a white ball on first extraction and a black ball out on second extraction replacing the first one.\n",
    "prob_white_black_replace = (White / total) * (black / total)\n",
    "print(\"Probability of taking out a white ball first and a black ball second with replacement:\", prob_white_black_replace)\n",
    "\n",
    "#Taking 3 balls and them being all different colors\n",
    "prob_all_different = 6*(White / total) * (red / (total - 1)) * (black / (total - 2))\n",
    "print(\"Probability of taking out 3 balls all of different colors without replacement:\", prob_all_different)\n"
   ]
  },
  {
   "cell_type": "markdown",
   "metadata": {},
   "source": [
    "## Challenge 2\n",
    "\n",
    "You want to go on picnic on Saturday. You hate rain, and would know to plan your weekend. To help you make a decision, you gather the following data about rainy days:\n",
    "\n",
    "* 40% of all days are cloudy.\n",
    "* About 50% of cloudy days are rainy. \n",
    "* About 20% of non-cloudy days are rainy.\n",
    "\n",
    "What is the chance of rain during next Saturday?"
   ]
  },
  {
   "cell_type": "code",
   "execution_count": 12,
   "metadata": {},
   "outputs": [
    {
     "name": "stdout",
     "output_type": "stream",
     "text": [
      "Probability of rain on Saturday: 32.00%\n"
     ]
    }
   ],
   "source": [
    "# Probability of rain\n",
    "\n",
    "p_cloudy = 0.4\n",
    "p_rain_given_cloudy = 0.5\n",
    "p_rain_given_not_cloudy = 0.2\n",
    "\n",
    "p_not_cloudy = 1 - p_cloudy\n",
    "\n",
    "# Law of total probability\n",
    "p_rain = (p_rain_given_cloudy * p_cloudy) + (p_rain_given_not_cloudy * p_not_cloudy)\n",
    "\n",
    "print(f\"Probability of rain on Saturday: {p_rain:.2%}\")\n",
    "\n",
    "\n"
   ]
  },
  {
   "cell_type": "markdown",
   "metadata": {},
   "source": [
    "## Challenge 3\n",
    "\n",
    "A and B are events of a probability such that $P(A) = 0.3$, $P(B) = 0.6$ and $P(A \\cap B) = 0.1$\n",
    "\n",
    "Which of the following statements are true?  \n",
    "**HINT: draw a big Venn Diagram by your side**  \n",
    "* $P(\\overline{A}) = 0.7$\n",
    "* $P(A \\cup B) = 0.6$\n",
    "* $P(A \\cap \\overline{B}) = 0.2$\n",
    "* $P(A \\cup \\overline{A}) = 1$  \n",
    "* $P(A \\cap (B \\cup \\overline{B})) = 0.4$\n",
    "* $P(\\overline{A} \\cap \\overline{B}) = 0.3$\n",
    "* $P(\\overline{A \\cap B}) = 0.9$"
   ]
  },
  {
   "cell_type": "code",
   "execution_count": 38,
   "metadata": {},
   "outputs": [
    {
     "name": "stdout",
     "output_type": "stream",
     "text": [
      "1. P(not A) = 0.7: True\n",
      "2. P(A or B) = 0.6: False\n",
      "3. P(A and not B) = 0.2: True\n",
      "4. P(A or not A) = 1: True\n",
      "5. P(A and (B or not B)) = 0.4: False\n",
      "6. P(not A and not B) = 0.3: False\n",
      "7. P(not (A and B)) = 0.9: True\n"
     ]
    }
   ],
   "source": [
    "P_A = 0.3\n",
    "P_B = 0.6\n",
    "P_A_and_B = 0.1\n",
    "  \n",
    "P_not_A = 1 - P_A\n",
    "P_not_A = 1 - 0.3\n",
    "P_not_A = 0.7\n",
    "\n",
    "P_A_or_B = P_A + P_B - P_A_and_B\n",
    "P_A_or_B = 0.3 + 0.6 - 0.1\n",
    "P_A_or_B = 0.8\n",
    "  \n",
    "P_A_and_not_B = P_A - P_A_and_B\n",
    "P_A_and_not_B = 0.3 - 0.1\n",
    "P_A_and_not_B = 0.2\n",
    "\n",
    "P_A_or_not_A = P_A + P_not_A\n",
    "P_A_or_not_A = 0.3 + 0.7\n",
    "P_A_or_not_A = 1.0\n",
    "\n",
    "P_A_and_B_or_not_B = P_A * (P_B + (1 - P_B))\n",
    "P_A_and_B_or_not_B = 0.3 * (0.6 + (1 - 0.6))\n",
    "P_A_and_B_or_not_B = 0.3 * 1\n",
    "P_A_and_B_or_not_B = 0.3\n",
    "\n",
    "P_not_A_and_not_B = 1 - P_A_or_B\n",
    "P_not_A_and_not_B = 1 - 0.8\n",
    "P_not_A_and_not_B = 0.2\n",
    "\n",
    "P_not_A_and_B = P_B - P_A_and_B\n",
    "P_not_A_and_B = 0.6 - 0.1\n",
    "P_not_A_and_B = 0.5\n",
    "\n",
    "\n",
    "# Check statements\n",
    "print(\"1. P(not A) = 0.7:\", P_not_A == 0.7)  # True\n",
    "print(\"2. P(A or B) = 0.6:\", P_A_or_B == 0.6)  # False\n",
    "print(\"3. P(A and not B) = 0.2:\", P_A_and_not_B == 0.2)  # True\n",
    "print(\"4. P(A or not A) = 1:\", P_A_or_not_A == 1)  # True\n",
    "print(\"5. P(A and (B or not B)) = 0.4:\", P_A_and_B_or_not_B == 0.4)  # False\n",
    "print(\"6. P(not A and not B) = 0.3:\", P_not_A_and_not_B == 0.3)  # False\n",
    "print(\"7. P(not (A and B)) = 0.9:\", (1 - P_A_and_B) == 0.9)  # True\n"
   ]
  },
  {
   "cell_type": "markdown",
   "metadata": {},
   "source": [
    "## Challenge 4\n",
    "\n",
    " * If someone flies to China, the probability of getting Covid is 1%  \n",
    " * If someone flies to Italy, the probability of getting Covid is 20%  \n",
    "\n",
    "I roll 1 dice with numbers 1, 2, 3, 4, 5, 6:  \n",
    " * If 1: I fly to Italy\n",
    " * If not 1: I fly to China\n",
    "\n",
    "During my trip, I got Covid. What is the probability that I flew to China?"
   ]
  },
  {
   "cell_type": "code",
   "execution_count": 40,
   "metadata": {},
   "outputs": [
    {
     "name": "stdout",
     "output_type": "stream",
     "text": [
      "P(Covid) = 0.041666666666666664\n",
      "P(China if Covid) = 0.2\n",
      "Answer: 20.0 %\n"
     ]
    }
   ],
   "source": [
    "# Given information\n",
    "P_covid_if_china = 0.01  # 1%\n",
    "P_covid_if_italy = 0.20  # 20%\n",
    "P_china = 5/6  # Roll 2, 3, 4, 5, or 6\n",
    "P_italy = 1/6  # Roll 1\n",
    "\n",
    "# Step 1: Calculate P(Covid)\n",
    "P_covid = (P_covid_if_china * P_china) + (P_covid_if_italy * P_italy)\n",
    "print(\"P(Covid) =\", P_covid)\n",
    "\n",
    "# Step 2: Calculate P(China if Covid) using Bayes' Theorem\n",
    "P_china_if_covid = (P_covid_if_china * P_china) / P_covid\n",
    "print(\"P(China if Covid) =\", P_china_if_covid)\n",
    "\n",
    "# Show as percentage\n",
    "print(\"Answer:\", P_china_if_covid * 100, \"%\")"
   ]
  },
  {
   "cell_type": "markdown",
   "metadata": {},
   "source": [
    "## BONUS\n",
    "\n",
    "You roll 2 dice. What is the probability that the sum of the numbers is 7? And 8? And 9? Then simulate 10000 times and draw a countplot."
   ]
  },
  {
   "cell_type": "markdown",
   "metadata": {},
   "source": [
    "your explanation here"
   ]
  },
  {
   "cell_type": "code",
   "execution_count": 41,
   "metadata": {},
   "outputs": [
    {
     "name": "stdout",
     "output_type": "stream",
     "text": [
      "P(sum = 7) = 0.16666666666666666\n",
      "P(sum = 8) = 0.1388888888888889\n",
      "P(sum = 9) = 0.1111111111111111\n",
      "\n",
      "--- Simulation ---\n",
      "Counts: Counter({7: 1643, 8: 1400, 6: 1362, 9: 1109, 5: 1088, 4: 842, 10: 834, 3: 588, 11: 558, 2: 293, 12: 283})\n"
     ]
    },
    {
     "data": {
      "image/png": "[encoded data removed]",
      "text/plain": [
       "<Figure size 640x480 with 1 Axes>"
      ]
     },
     "metadata": {},
     "output_type": "display_data"
    }
   ],
   "source": [
    "# Part 1: Calculate probabilities\n",
    "\n",
    "# Sum = 7: (1,6), (2,5), (3,4), (4,3), (5,2), (6,1) = 6 ways\n",
    "ways_for_7 = 6\n",
    "total_outcomes = 36  # 6 * 6\n",
    "P_sum_7 = ways_for_7 / total_outcomes\n",
    "print(\"P(sum = 7) =\", P_sum_7)\n",
    "\n",
    "# Sum = 8: (2,6), (3,5), (4,4), (5,3), (6,2) = 5 ways\n",
    "ways_for_8 = 5\n",
    "P_sum_8 = ways_for_8 / total_outcomes\n",
    "print(\"P(sum = 8) =\", P_sum_8)\n",
    "\n",
    "# Sum = 9: (3,6), (4,5), (5,4), (6,3) = 4 ways\n",
    "ways_for_9 = 4\n",
    "P_sum_9 = ways_for_9 / total_outcomes\n",
    "print(\"P(sum = 9) =\", P_sum_9)\n",
    "\n",
    "print(\"\\n--- Simulation ---\")\n",
    "\n",
    "# Part 2: Simulate 10000 times\n",
    "import random\n",
    "import matplotlib.pyplot as plt\n",
    "\n",
    "results = []\n",
    "for i in range(10000):\n",
    "    dice1 = random.randint(1, 6)\n",
    "    dice2 = random.randint(1, 6)\n",
    "    total = dice1 + dice2\n",
    "    results.append(total)\n",
    "\n",
    "# Count each sum\n",
    "from collections import Counter\n",
    "counts = Counter(results)\n",
    "print(\"Counts:\", counts)\n",
    "\n",
    "# Draw countplot\n",
    "sums = list(counts.keys())\n",
    "frequencies = list(counts.values())\n",
    "\n",
    "plt.bar(sums, frequencies, color='skyblue', edgecolor='black')\n",
    "plt.xlabel('Sum of Dice')\n",
    "plt.ylabel('Frequency')\n",
    "plt.title('Dice Sum Distribution (10000 rolls)')\n",
    "plt.xticks(range(2, 13))\n",
    "plt.grid(axis='y', alpha=0.3)\n",
    "plt.show()"
   ]
  }
 ],
 "metadata": {
  "kernelspec": {
   "display_name": "Python 3",
   "language": "python",
   "name": "python3"
  },
  "language_info": {
   "codemirror_mode": {
    "name": "ipython",
    "version": 3
   },
   "file_extension": ".py",
   "mimetype": "text/x-python",
   "name": "python",
   "nbconvert_exporter": "python",
   "pygments_lexer": "ipython3",
   "version": "3.13.7"
  },
  "toc": {
   "base_numbering": 1,
   "nav_menu": {},
   "number_sections": false,
   "sideBar": true,
   "skip_h1_title": false,
   "title_cell": "Table of Contents",
   "title_sidebar": "Contents",
   "toc_cell": false,
   "toc_position": {
    "height": "calc(100% - 180px)",
    "left": "10px",
    "top": "150px",
    "width": "296.475px"
   },
   "toc_section_display": true,
   "toc_window_display": false
  },
  "varInspector": {
   "cols": {
    "lenName": 16,
    "lenType": 16,
    "lenVar": 40
   },
   "kernels_config": {
    "python": {
     "delete_cmd_postfix": "",
     "delete_cmd_prefix": "del ",
     "library": "var_list.py",
     "varRefreshCmd": "print(var_dic_list())"
    },
    "r": {
     "delete_cmd_postfix": ") ",
     "delete_cmd_prefix": "rm(",
     "library": "var_list.r",
     "varRefreshCmd": "cat(var_dic_list()) "
    }
   },
   "types_to_exclude": [
    "module",
    "function",
    "builtin_function_or_method",
    "instance",
    "_Feature"
   ],
   "window_display": false
  }
 },
 "nbformat": 4,
 "nbformat_minor": 2
}
